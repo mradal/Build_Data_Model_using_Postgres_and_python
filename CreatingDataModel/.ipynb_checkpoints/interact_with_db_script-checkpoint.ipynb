{
 "cells": [
  {
   "cell_type": "code",
   "execution_count": 1,
   "id": "778ab731-eb13-4305-bf87-cfbc26addcb1",
   "metadata": {},
   "outputs": [],
   "source": [
    "import psycopg2"
   ]
  },
  {
   "cell_type": "code",
   "execution_count": 9,
   "id": "7923de33-c3c3-41ed-868f-811746e968b3",
   "metadata": {},
   "outputs": [
    {
     "name": "stdout",
     "output_type": "stream",
     "text": [
      "<connection object at 0x000001C5A5DBE8A0; dsn: 'user=postgres password=xxx dbname=postgres host=localhost', closed: 0>\n"
     ]
    }
   ],
   "source": [
    "try:\n",
    "    connection = psycopg2.connect(\"host=localhost dbname=postgres user=postgres password=Mradal\")\n",
    "    print(connection)\n",
    "except psycopg2.Error as e:\n",
    "    print(\"Could not make connection to postgres databse\")\n",
    "    print(e)"
   ]
  },
  {
   "cell_type": "code",
   "execution_count": 10,
   "id": "d8bcc7d0-74f3-431d-b53e-f2923e79cbfb",
   "metadata": {},
   "outputs": [],
   "source": [
    "'''Create A cursor to execute queried'''\n",
    "try:\n",
    "    cursor = connection.cursor()\n",
    "except psycopg2.Error as e:\n",
    "    print('No able to get cursor. \\n', e)"
   ]
  },
  {
   "cell_type": "code",
   "execution_count": 12,
   "id": "1e6f9d28-4b2e-4757-8748-97202dd66986",
   "metadata": {},
   "outputs": [],
   "source": [
    "#Set autocommit to true , so that our trasactions are immediately saved after the execution\n",
    "try:\n",
    "    connection.set_session(autocommit = True)\n",
    "except psycopg2.Error as e:\n",
    "    print(\"Error !\\n\", e)"
   ]
  },
  {
   "cell_type": "code",
   "execution_count": 13,
   "id": "0fd20fc3-7cb6-4801-a82e-3366090411d7",
   "metadata": {},
   "outputs": [],
   "source": [
    "# create a database\n",
    "try:\n",
    "    cursor.execute('Create database project1_data_model_and_db_creation')\n",
    "except psycopg2.Error as e:\n",
    "    print(e)"
   ]
  },
  {
   "cell_type": "code",
   "execution_count": 26,
   "id": "0eb1cc3b-47ed-4e7f-a0a0-a0c00e082427",
   "metadata": {},
   "outputs": [],
   "source": [
    "#creating a new table\n",
    "try:\n",
    "    cursor.execute('CREATE TABLE IF NOT EXISTS students (student_id int, name varchar, \\\n",
    "    age int, gender varchar, subject varchar, marks int);')\n",
    "    query = cursor.execute('SELECT * FROM students')\n",
    "except psycopg2.Error as e:\n",
    "    print('Error \\n', e)"
   ]
  },
  {
   "cell_type": "code",
   "execution_count": 38,
   "id": "adede8e5-a756-4c15-b2a6-6f7ee03fd6c5",
   "metadata": {},
   "outputs": [
    {
     "name": "stdout",
     "output_type": "stream",
     "text": [
      "Connection Closed Successfully!\n"
     ]
    }
   ],
   "source": [
    "#Close the connection and connect to database that we have created above\n",
    "try:\n",
    "    cursor.close()\n",
    "    connection.close()\n",
    "    print('Connection Closed Successfully!')\n",
    "except psycopg2.Error as e:\n",
    "    print(e)\n"
   ]
  },
  {
   "cell_type": "code",
   "execution_count": 39,
   "id": "6536a27a-7c6c-4509-824f-c621e5dc3990",
   "metadata": {},
   "outputs": [
    {
     "name": "stdout",
     "output_type": "stream",
     "text": [
      "Establish Connection to Project1_Data_Model_and_db_creation: Success!...\n"
     ]
    }
   ],
   "source": [
    "\n",
    "#create a new connection to the project1_data_model_and_db_creation db\n",
    "try:\n",
    "    connection = psycopg2.connect('host=localhost dbname=project1_data_model_and_db_creation user=postgres password=Mradal')\n",
    "    print('Establish Connection to Project1_Data_Model_and_db_creation: Success!...')\n",
    "except psycopg2.Error as e:\n",
    "    print(e)\n",
    "\n",
    "\n",
    "#create a new cursor and setting autocommit = True\n",
    "try:\n",
    "    cursor = connection.cursor()\n",
    "    connection.set_session(autocommit=True)\n",
    "except psycopg2.Error as e:\n",
    "    print(e)"
   ]
  },
  {
   "cell_type": "code",
   "execution_count": 40,
   "id": "67f3a669-4db4-48f3-973c-afcffdd0799a",
   "metadata": {},
   "outputs": [],
   "source": [
    "#insert data into our table\n",
    "try:\n",
    "    cursor.execute('INSERT INTO students (student_id, name, age, gender, subject, marks) \\\n",
    "                    VALUES (%s, %s, %s, %s, %s, %s)', \\\n",
    "                    (4, 'Rajiv', 26, 'Male', 'Python', 85))\n",
    "except psycopg2.Error as e:\n",
    "    print(e)\n",
    "\n",
    "\n"
   ]
  },
  {
   "cell_type": "code",
   "execution_count": 41,
   "id": "07306d8e-c9d3-4e08-b254-48e90c93dee6",
   "metadata": {},
   "outputs": [],
   "source": [
    "try:\n",
    "    cursor.execute('INSERT INTO students (student_id, name, age, gender, subject, marks) \\\n",
    "                    VALUES (%s, %s, %s, %s, %s, %s)', \\\n",
    "                    (5, 'Slayer', 24, 'Male', 'java', 15)\n",
    "                  )\n",
    "except psycopg2.Error as e:\n",
    "    print(e)\n"
   ]
  },
  {
   "cell_type": "code",
   "execution_count": 42,
   "id": "ced6d41f-065d-43d1-b0fd-7c5d1539364d",
   "metadata": {},
   "outputs": [
    {
     "name": "stdout",
     "output_type": "stream",
     "text": [
      "(1, 'Raj', 23, 'Male', 'Python', 85)\n",
      "(2, 'Rahul', 24, 'Male', 'java', 15)\n",
      "(4, 'Rajiv', 26, 'Male', 'Python', 85)\n",
      "(5, 'Slayer', 24, 'Male', 'java', 15)\n"
     ]
    }
   ],
   "source": [
    "try:\n",
    "    cursor.execute('SELECT * FROM students;')\n",
    "except psycopg2.Error as e:\n",
    "    print(e)\n",
    "\n",
    "try:\n",
    "    row = cursor.fetchone()\n",
    "    while row:\n",
    "        print(row)\n",
    "        row = cursor.fetchone()\n",
    "except psycopg2.Error as e:\n",
    "    print(e)\n"
   ]
  },
  {
   "cell_type": "code",
   "execution_count": 43,
   "id": "74ba7876-95e8-47b5-ab1d-9a2db011a44f",
   "metadata": {},
   "outputs": [],
   "source": [
    "#close the connection\n",
    "cursor.close()\n",
    "connection.close()"
   ]
  },
  {
   "cell_type": "code",
   "execution_count": null,
   "id": "eaa4e1eb-52de-4b49-bd01-b928f38379cc",
   "metadata": {},
   "outputs": [],
   "source": []
  }
 ],
 "metadata": {
  "kernelspec": {
   "display_name": "Python 3 (ipykernel)",
   "language": "python",
   "name": "python3"
  },
  "language_info": {
   "codemirror_mode": {
    "name": "ipython",
    "version": 3
   },
   "file_extension": ".py",
   "mimetype": "text/x-python",
   "name": "python",
   "nbconvert_exporter": "python",
   "pygments_lexer": "ipython3",
   "version": "3.10.6"
  }
 },
 "nbformat": 4,
 "nbformat_minor": 5
}
